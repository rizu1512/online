{
 "cells": [
  {
   "cell_type": "code",
   "execution_count": 4,
   "id": "2fb34ee9",
   "metadata": {},
   "outputs": [
    {
     "name": "stdout",
     "output_type": "stream",
     "text": [
      "{'brand': 'food', 'model': 'mustang', 'year': 1964}\n"
     ]
    }
   ],
   "source": [
    "\n"
   ]
  },
  {
   "cell_type": "code",
   "execution_count": 5,
   "id": "2b0a95e7",
   "metadata": {},
   "outputs": [
    {
     "name": "stdout",
     "output_type": "stream",
     "text": [
      "food\n"
     ]
    }
   ],
   "source": [
    "t={\n",
    "    \"brand\": \"food\",\n",
    "    \"model\": \"mustang\",\n",
    "    \"year\" : 1964\n",
    "}\n",
    "print(t[\"brand\"])"
   ]
  },
  {
   "cell_type": "code",
   "execution_count": 6,
   "id": "d3de91b7",
   "metadata": {},
   "outputs": [
    {
     "name": "stdout",
     "output_type": "stream",
     "text": [
      "1964\n"
     ]
    }
   ],
   "source": [
    "t={\n",
    "    \"brand\": \"food\",\n",
    "    \"model\": \"mustang\",\n",
    "    \"year\" : 1964\n",
    "}\n",
    "print(t[\"year\"])"
   ]
  },
  {
   "cell_type": "code",
   "execution_count": 10,
   "id": "ae233983",
   "metadata": {},
   "outputs": [
    {
     "name": "stdout",
     "output_type": "stream",
     "text": [
      "3\n"
     ]
    }
   ],
   "source": [
    "t={\n",
    "    \"brand\": \"food\",\n",
    "    \"model\": \"mustang\",\n",
    "    \"year\" : 1964\n",
    "    \n",
    "}\n",
    "print(len(t))"
   ]
  },
  {
   "cell_type": "code",
   "execution_count": 11,
   "id": "c614057d",
   "metadata": {},
   "outputs": [
    {
     "name": "stdout",
     "output_type": "stream",
     "text": [
      "{'brand': 'food', 'model': 'mustang', 'year': 1964, 'colors': ['red', 'white']}\n"
     ]
    }
   ],
   "source": [
    " t={\n",
    "    \"brand\": \"food\",\n",
    "    \"model\": \"mustang\",\n",
    "    \"year\" : 1964,\n",
    "     \"colors\":[\"red\",\"white\"]\n",
    "}\n",
    "print(t)"
   ]
  },
  {
   "cell_type": "code",
   "execution_count": 12,
   "id": "e401b07d",
   "metadata": {},
   "outputs": [
    {
     "name": "stdout",
     "output_type": "stream",
     "text": [
      "{'brand': 'food', 'model': 'mustang', 'electric': False, 'year': 1964, 'colors': ['red', 'white']}\n"
     ]
    }
   ],
   "source": [
    " t={\n",
    "    \"brand\": \"food\",\n",
    "    \"model\": \"mustang\",\n",
    "     \"electric\":False,\n",
    "    \"year\" : 1964,\n",
    "     \"colors\":[\"red\",\"white\"]\n",
    "}\n",
    "print(t)"
   ]
  },
  {
   "cell_type": "code",
   "execution_count": 14,
   "id": "fab516f7",
   "metadata": {},
   "outputs": [
    {
     "name": "stdout",
     "output_type": "stream",
     "text": [
      "<class 'dict'>\n"
     ]
    }
   ],
   "source": [
    " t={\n",
    "    \"brand\": \"food\",\n",
    "    \"model\": \"mustang\",\n",
    "    \"year\" : 1964,\n",
    "     \"colors\":[\"red\",\"white\"]\n",
    "}\n",
    "print(type(t))"
   ]
  },
  {
   "cell_type": "code",
   "execution_count": 15,
   "id": "7b17775d",
   "metadata": {},
   "outputs": [
    {
     "name": "stdout",
     "output_type": "stream",
     "text": [
      "1964\n"
     ]
    }
   ],
   "source": [
    " t={\n",
    "    \"brand\": \"food\",\n",
    "    \"model\": \"mustang\",\n",
    "    \"year\" : 1964,\n",
    "     \"colors\":[\"red\",\"white\"]\n",
    "}\n",
    "x=t.get(\"year\")\n",
    "print(x)"
   ]
  },
  {
   "cell_type": "code",
   "execution_count": 16,
   "id": "7e6715bc",
   "metadata": {},
   "outputs": [
    {
     "name": "stdout",
     "output_type": "stream",
     "text": [
      "dict_keys(['brand', 'model', 'year', 'colors'])\n"
     ]
    }
   ],
   "source": [
    " t={\n",
    "    \"brand\": \"food\",\n",
    "    \"model\": \"mustang\",\n",
    "    \"year\" : 1964,\n",
    "     \"colors\":[\"red\",\"white\"]\n",
    "}\n",
    "x=t.keys()\n",
    "print(x)"
   ]
  },
  {
   "cell_type": "code",
   "execution_count": 19,
   "id": "52dfee78",
   "metadata": {},
   "outputs": [
    {
     "name": "stdout",
     "output_type": "stream",
     "text": [
      "dict_keys(['brand', 'model', 'year', 'colors']) dict_values(['food', 'mustang', 1964, ['red', 'white']])\n"
     ]
    }
   ],
   "source": [
    " t={\n",
    "    \"brand\": \"food\",\n",
    "    \"model\": \"mustang\",\n",
    "    \"year\" : 1964,\n",
    "     \"colors\":[\"red\",\"white\"]\n",
    "}\n",
    "x=t.values()\n",
    "y=t.keys()\n",
    "print(y,x)"
   ]
  },
  {
   "cell_type": "code",
   "execution_count": 35,
   "id": "cc4bb56d",
   "metadata": {},
   "outputs": [
    {
     "name": "stdout",
     "output_type": "stream",
     "text": [
      "{'brand': 'food', 'model': 'mustang', 'year': 1964}\n",
      "after change\n",
      "{'brand': 'food', 'model': 'mustang', 'year': 2020}\n"
     ]
    }
   ],
   "source": [
    " t={\n",
    "    \"brand\": \"food\",\n",
    "    \"model\": \"mustang\",\n",
    "    \"year\" : 1964\n",
    "}\n",
    "print(t)\n",
    "t[\"year\"]=2020\n",
    "print(\"after change\" ); print(t)\n"
   ]
  },
  {
   "cell_type": "code",
   "execution_count": 36,
   "id": "28c448de",
   "metadata": {},
   "outputs": [
    {
     "name": "stdout",
     "output_type": "stream",
     "text": [
      "{'brand': 'food', 'model': 'mustang', 'year': 1964}\n",
      "after change\n",
      "{'brand': 'food', 'model': 'mustang', 'year': 2020}\n"
     ]
    }
   ],
   "source": [
    " t={\n",
    "    \"brand\": \"food\",\n",
    "    \"model\": \"mustang\",\n",
    "    \"year\" : 1964\n",
    "}\n",
    "print(t)\n",
    "t.update({\"year\":2020})\n",
    "print(\"after change\" ); print(t)"
   ]
  },
  {
   "cell_type": "code",
   "execution_count": 38,
   "id": "c795c647",
   "metadata": {
    "scrolled": false
   },
   "outputs": [
    {
     "name": "stdout",
     "output_type": "stream",
     "text": [
      "{'brand': 'food', 'model': 'mustang', 'year': 1964}\n",
      "after change\n",
      "{'brand': 'food', 'model': 'mustang'}\n"
     ]
    }
   ],
   "source": [
    " t={\n",
    "    \"brand\": \"food\",\n",
    "    \"model\": \"mustang\",\n",
    "    \"year\" : 1964\n",
    "}\n",
    "print(t)\n",
    "t.pop(\"year\")\n",
    "print(\"after change\" ); print(t)"
   ]
  },
  {
   "cell_type": "markdown",
   "id": "43e4bf93",
   "metadata": {},
   "source": [
    " t={\n",
    "    \"brand\": \"food\",\n",
    "    \"model\": \"mustang\",\n",
    "    \"year\" : 1964\n",
    "}\n",
    "print(t)\n",
    "t.popitem()\n",
    "print(\"after change\" ); print(t)"
   ]
  },
  {
   "cell_type": "code",
   "execution_count": 41,
   "id": "23e6e7ba",
   "metadata": {},
   "outputs": [
    {
     "name": "stdout",
     "output_type": "stream",
     "text": [
      "{'brand': 'food', 'model': 'mustang', 'year': 1964}\n",
      "after change\n",
      "{'brand': 'food', 'model': 'mustang'}\n"
     ]
    }
   ],
   "source": [
    " t={\n",
    "    \"brand\": \"food\",\n",
    "    \"model\": \"mustang\",\n",
    "    \"year\" : 1964\n",
    "}\n",
    "print(t)\n",
    "del t[\"year\"]\n",
    "print(\"after change\" ); print(t)"
   ]
  },
  {
   "cell_type": "code",
   "execution_count": 42,
   "id": "8d052ed1",
   "metadata": {},
   "outputs": [
    {
     "name": "stdout",
     "output_type": "stream",
     "text": [
      "{'brand': 'food', 'model': 'mustang', 'year': 1964}\n",
      "after \n",
      "\n",
      "{'brand': 'food', 'model': 'mustang', 'year': 1964}\n"
     ]
    }
   ],
   "source": [
    " t={\n",
    "    \"brand\": \"food\",\n",
    "    \"model\": \"mustang\",\n",
    "    \"year\" : 1964\n",
    "}\n",
    "print(t)\n",
    "m=t.copy()\n",
    "print(\"after \\n\");\n",
    "print(m)"
   ]
  },
  {
   "cell_type": "code",
   "execution_count": null,
   "id": "46d078fc",
   "metadata": {},
   "outputs": [],
   "source": []
  }
 ],
 "metadata": {
  "kernelspec": {
   "display_name": "Python 3",
   "language": "python",
   "name": "python3"
  },
  "language_info": {
   "codemirror_mode": {
    "name": "ipython",
    "version": 3
   },
   "file_extension": ".py",
   "mimetype": "text/x-python",
   "name": "python",
   "nbconvert_exporter": "python",
   "pygments_lexer": "ipython3",
   "version": "3.8.8"
  }
 },
 "nbformat": 4,
 "nbformat_minor": 5
}
